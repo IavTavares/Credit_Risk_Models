{
 "cells": [
  {
   "cell_type": "code",
   "execution_count": 1,
   "id": "6f218761",
   "metadata": {},
   "outputs": [],
   "source": [
    "import pandas as pd\n",
    "import numpy as np\n",
    "import matplotlib.pyplot as plt\n",
    "import seaborn as sns\n",
    "\n",
    "from sklearn.ensemble import RandomForestClassifier\n",
    "from sklearn.model_selection import ShuffleSplit, KFold, cross_val_score\n",
    "from sklearn.metrics import classification_report, RocCurveDisplay, roc_curve,\\\n",
    "roc_auc_score,precision_recall_fscore_support\n",
    "\n",
    "import optuna"
   ]
  },
  {
   "cell_type": "code",
   "execution_count": 2,
   "id": "21bf70d0",
   "metadata": {},
   "outputs": [],
   "source": [
    "sns.set()"
   ]
  },
  {
   "cell_type": "code",
   "execution_count": 3,
   "id": "e49ff21b",
   "metadata": {},
   "outputs": [],
   "source": [
    "X_train = pd.read_csv(r\"..\\Data Set\\X_train.csv\")\n",
    "X_test = pd.read_csv(r\"..\\Data Set\\X_test.csv\")\n",
    "Y_train = pd.read_csv(r\"..\\Data Set\\Y_train.csv\")\n",
    "Y_test = pd.read_csv(r\"..\\Data Set\\Y_test.csv\")"
   ]
  },
  {
   "cell_type": "markdown",
   "id": "ef907b65",
   "metadata": {},
   "source": [
    "# Baseline Model - Random Forest Cl + Auto Tuning"
   ]
  },
  {
   "cell_type": "code",
   "execution_count": 4,
   "id": "98a51c64",
   "metadata": {},
   "outputs": [],
   "source": [
    "cv_generator = KFold(n_splits=5, shuffle=True, random_state=0)\n",
    "cv_generator_2=ShuffleSplit(n_splits=5, test_size=0.25, random_state=0)"
   ]
  },
  {
   "cell_type": "code",
   "execution_count": 7,
   "id": "022e3f5c",
   "metadata": {},
   "outputs": [],
   "source": [
    "def randomforest_objective(trial):\n",
    "    # n_estimators = trial.suggest_int(\"n_estimators\", 50, 200, 10) \n",
    "    # from 50 to 200, w/ steps of 10\n",
    "    \n",
    "    # max_depth = trial.suggest_int(\"max_depth\", 5, 20)\n",
    "    max_depth = trial.suggest_categorical('max_depth', [5,10,15]) # try 50, 100, 200\n",
    "    min_samp_split = trial.suggest_int(\"min_samples_split\", 2, 10,2)\n",
    "    min_samples_leaf = trial.suggest_int(\"min_samples_leaf\", 2, 10,2)\n",
    "    #max_features = trial.suggest_int(\"max_features\", 1, 9) # we have at most 9 features in X_train\n",
    "\n",
    "    regr = RandomForestClassifier(\n",
    "        max_depth = max_depth,\n",
    "        min_samples_split = min_samp_split,\n",
    "        min_samples_leaf = min_samples_leaf,\n",
    "        #max_features = max_features,\n",
    "        #n_estimators = n_estimators,\n",
    "        n_jobs = -1,\n",
    "        random_state = 0 #RANDOM_SEED,\n",
    "    )\n",
    "\n",
    "    scores = cross_val_score(\n",
    "        regr, X_train, np.array(Y_train).ravel(), \n",
    "        cv = cv_generator, \n",
    "        scoring ='neg_log_loss' # classification score\n",
    "    )\n",
    "    return scores.mean()"
   ]
  },
  {
   "cell_type": "markdown",
   "id": "51188d4e",
   "metadata": {},
   "source": [
    " Check this [sklear page](https://scikit-learn.org/stable/modules/model_evaluation.html#common-cases-predefined-values) for more possibilities of scoring functions."
   ]
  },
  {
   "cell_type": "code",
   "execution_count": 9,
   "id": "ac0ad3e3",
   "metadata": {},
   "outputs": [
    {
     "name": "stderr",
     "output_type": "stream",
     "text": [
      "\u001b[32m[I 2022-01-16 12:01:18,937]\u001b[0m A new study created in memory with name: no-name-5bf1050b-9e25-4160-aa8e-61f38594b351\u001b[0m\n",
      "\u001b[32m[I 2022-01-16 12:01:24,212]\u001b[0m Trial 0 finished with value: -0.23260572997358936 and parameters: {'max_depth': 10, 'min_samples_split': 4, 'min_samples_leaf': 10}. Best is trial 0 with value: -0.23260572997358936.\u001b[0m\n",
      "\u001b[32m[I 2022-01-16 12:01:28,395]\u001b[0m Trial 1 finished with value: -0.2758654554559751 and parameters: {'max_depth': 5, 'min_samples_split': 10, 'min_samples_leaf': 4}. Best is trial 0 with value: -0.23260572997358936.\u001b[0m\n",
      "\u001b[32m[I 2022-01-16 12:01:34,660]\u001b[0m Trial 2 finished with value: -0.220987479960639 and parameters: {'max_depth': 15, 'min_samples_split': 6, 'min_samples_leaf': 6}. Best is trial 2 with value: -0.220987479960639.\u001b[0m\n",
      "\u001b[32m[I 2022-01-16 12:01:38,575]\u001b[0m Trial 3 finished with value: -0.27611300783158804 and parameters: {'max_depth': 5, 'min_samples_split': 2, 'min_samples_leaf': 8}. Best is trial 2 with value: -0.220987479960639.\u001b[0m\n",
      "\u001b[32m[I 2022-01-16 12:01:45,112]\u001b[0m Trial 4 finished with value: -0.21870994183493325 and parameters: {'max_depth': 15, 'min_samples_split': 4, 'min_samples_leaf': 4}. Best is trial 4 with value: -0.21870994183493325.\u001b[0m\n",
      "\u001b[32m[I 2022-01-16 12:01:49,053]\u001b[0m Trial 5 finished with value: -0.27611300783158804 and parameters: {'max_depth': 5, 'min_samples_split': 2, 'min_samples_leaf': 8}. Best is trial 4 with value: -0.21870994183493325.\u001b[0m\n",
      "\u001b[32m[I 2022-01-16 12:01:54,253]\u001b[0m Trial 6 finished with value: -0.22976332701497287 and parameters: {'max_depth': 10, 'min_samples_split': 6, 'min_samples_leaf': 6}. Best is trial 4 with value: -0.21870994183493325.\u001b[0m\n",
      "\u001b[32m[I 2022-01-16 12:01:58,170]\u001b[0m Trial 7 finished with value: -0.2761305486258525 and parameters: {'max_depth': 5, 'min_samples_split': 6, 'min_samples_leaf': 6}. Best is trial 4 with value: -0.21870994183493325.\u001b[0m\n",
      "\u001b[32m[I 2022-01-16 12:02:03,534]\u001b[0m Trial 8 finished with value: -0.22976332701497287 and parameters: {'max_depth': 10, 'min_samples_split': 8, 'min_samples_leaf': 6}. Best is trial 4 with value: -0.21870994183493325.\u001b[0m\n",
      "\u001b[32m[I 2022-01-16 12:02:09,409]\u001b[0m Trial 9 finished with value: -0.23076063289520263 and parameters: {'max_depth': 10, 'min_samples_split': 2, 'min_samples_leaf': 8}. Best is trial 4 with value: -0.21870994183493325.\u001b[0m\n"
     ]
    },
    {
     "name": "stdout",
     "output_type": "stream",
     "text": [
      "Best score: -0.21870994183493325\n",
      "\n",
      "Optimized parameters: {'max_depth': 15, 'min_samples_split': 4, 'min_samples_leaf': 4}\n",
      "\n"
     ]
    }
   ],
   "source": [
    "study = optuna.create_study(direction=\"maximize\")\n",
    "\n",
    "study.optimize(randomforest_objective, n_trials=10) # try 100 or more\n",
    "# More trials will increase our prob of discovering better performing models.\n",
    "\n",
    "best_params = study.best_params\n",
    "best_score = study.best_value\n",
    "print(f\"Best score: {best_score}\\n\")\n",
    "print(f\"Optimized parameters: {best_params}\\n\")"
   ]
  },
  {
   "cell_type": "code",
   "execution_count": 16,
   "id": "20ea3db5",
   "metadata": {},
   "outputs": [],
   "source": [
    "# randomforest_params = tune(randomforest_objective)\n",
    "# randomforest_params = {'n_estimators': 180, 'max_depth': 18, 'min_samples_split': 2, 'min_samples_leaf': 2, 'max_features': 49}\n",
    "clr_best_optuna = RandomForestClassifier(n_jobs=-1, random_state=0, **best_params)"
   ]
  },
  {
   "cell_type": "code",
   "execution_count": 18,
   "id": "a42b4197",
   "metadata": {},
   "outputs": [],
   "source": [
    "# We could have created a callback returning the best model already fitted\n",
    "# making useless the next command\n",
    "clr_best_optuna.fit(X_train, np.ravel(Y_train))\n",
    "\n",
    "\n",
    "# let's make the prediction\n",
    "Y_pred_optuna=clr_best_optuna.predict(X_test)"
   ]
  },
  {
   "cell_type": "code",
   "execution_count": 19,
   "id": "8b228bfa",
   "metadata": {},
   "outputs": [
    {
     "name": "stdout",
     "output_type": "stream",
     "text": [
      "Feature Name: person_age, Feature Importance: 0.02273202641826128\n",
      "\n",
      "Feature Name: person_income, Feature Importance: 0.12986005274416992\n",
      "\n",
      "Feature Name: person_home_ownership_enc, Feature Importance: 0.13248905212665402\n",
      "\n",
      "Feature Name: person_emp_length, Feature Importance: 0.05302748888543701\n",
      "\n",
      "Feature Name: loan_intent_enc, Feature Importance: 0.07693873922045558\n",
      "\n",
      "Feature Name: loan_grade_enc, Feature Importance: 0.1549364019084481\n",
      "\n",
      "Feature Name: loan_amnt, Feature Importance: 0.0515071011365107\n",
      "\n",
      "Feature Name: loan_int_rate, Feature Importance: 0.11282859920853885\n",
      "\n",
      "Feature Name: loan_percent_income, Feature Importance: 0.26568053835152455\n",
      "\n"
     ]
    }
   ],
   "source": [
    "for name,coef in zip(X_train.columns,np.ravel(clr_best_optuna.feature_importances_)):\n",
    "    print(\"Feature Name: {}, Feature Importance: {}\\n\".format(name,coef))"
   ]
  },
  {
   "cell_type": "markdown",
   "id": "60d35a36",
   "metadata": {},
   "source": [
    "# Measuring the Performance of our Model"
   ]
  },
  {
   "cell_type": "code",
   "execution_count": 20,
   "id": "31987522",
   "metadata": {},
   "outputs": [
    {
     "data": {
      "text/plain": [
       "array([0, 1], dtype=int64)"
      ]
     },
     "execution_count": 20,
     "metadata": {},
     "output_type": "execute_result"
    }
   ],
   "source": [
    "clr_best_optuna.classes_"
   ]
  },
  {
   "cell_type": "code",
   "execution_count": 22,
   "id": "3c702c92",
   "metadata": {},
   "outputs": [],
   "source": [
    "preds= clr_best_optuna.predict(X_test)"
   ]
  },
  {
   "cell_type": "code",
   "execution_count": 23,
   "id": "cc1d0629",
   "metadata": {},
   "outputs": [
    {
     "name": "stdout",
     "output_type": "stream",
     "text": [
      "              precision    recall  f1-score   support\n",
      "\n",
      " Non-Default       0.92      0.99      0.95      4465\n",
      "     Default       0.96      0.70      0.81      1263\n",
      "\n",
      "    accuracy                           0.93      5728\n",
      "   macro avg       0.94      0.84      0.88      5728\n",
      "weighted avg       0.93      0.93      0.92      5728\n",
      "\n"
     ]
    }
   ],
   "source": [
    "# Classification Report follows the order from .classes_\n",
    "# Label 0, Label 1, etc.\n",
    "\n",
    "target_names = ['Non-Default', 'Default']\n",
    "print(classification_report(Y_test,preds, target_names=target_names))"
   ]
  },
  {
   "cell_type": "markdown",
   "id": "539c409d",
   "metadata": {},
   "source": [
    "Much better performance in _all_ metrics than the Logistic Regression!"
   ]
  },
  {
   "cell_type": "code",
   "execution_count": 30,
   "id": "d605a8a8",
   "metadata": {},
   "outputs": [
    {
     "data": {
      "image/png": "[encoded data removed]",
      "text/plain": [
       "<Figure size 432x288 with 1 Axes>"
      ]
     },
     "metadata": {},
     "output_type": "display_data"
    }
   ],
   "source": [
    "# Plot the ROC curve of the probabilities of default\n",
    "prob_default = clr_best_optuna.predict_proba(X_test)[:,1]\n",
    "fallout, sensitivity, thresholds = roc_curve(np.ravel(Y_test), prob_default)\n",
    "\n",
    "plt.plot(fallout, sensitivity, color = 'darkorange', \n",
    "         label = \"Random Forest Clr + Optuna\")\n",
    "\n",
    "roc_Logistic = pd.read_csv(r\"..\\Data Set\\Roc_Logistic.csv\")\n",
    "\n",
    "plt.plot(roc_Logistic['fallout'], roc_Logistic['sensitivity'], color = 'darkred', \n",
    "         label = \"Logistic Regression + Threshould\")\n",
    "\n",
    "plt.plot([0, 1], [0, 1], linestyle='--', label=\"Random Classifier\")\n",
    "\n",
    "plt.legend(title='Receiver Operating Characteristic Curves')\n",
    "\n",
    "plt.show()"
   ]
  },
  {
   "cell_type": "code",
   "execution_count": 31,
   "id": "66e9ce8f",
   "metadata": {},
   "outputs": [
    {
     "data": {
      "text/plain": [
       "0.9290368742901374"
      ]
     },
     "execution_count": 31,
     "metadata": {},
     "output_type": "execute_result"
    }
   ],
   "source": [
    "# Compute the AUC and store it in a variable\n",
    "auc = roc_auc_score(Y_test, prob_default)\n",
    "auc"
   ]
  },
  {
   "cell_type": "code",
   "execution_count": 44,
   "id": "9c3b3a28",
   "metadata": {},
   "outputs": [
    {
     "name": "stdout",
     "output_type": "stream",
     "text": [
      "The estimated average loss of undetected defaults is 2,674,116.4360 €\n"
     ]
    }
   ],
   "source": [
    "# number of loan defaults from the prediction data\n",
    "n_defaults = np.unique(preds, return_counts=True)[1][1]\n",
    "\n",
    "# default recall - True Default (Positive) Rate : proportion of correctly identified defaults\n",
    "# out of all data defaults\n",
    "default_recall = precision_recall_fscore_support(Y_test,preds)[1][1]\n",
    "\n",
    "avg_loan_amnt=X_test[\"loan_amnt\"].mean()\n",
    "\n",
    "# Calculate the estimated impact of the new default recall rate\n",
    "\n",
    "default_rr=n_defaults * avg_loan_amnt * (1 - default_recall)\n",
    "\n",
    "print(\"The estimated average loss of misidentified defaults is {:,.4f} €\".format(default_rr))\n",
    "    "
   ]
  },
  {
   "cell_type": "markdown",
   "id": "0d431cda",
   "metadata": {},
   "source": [
    "We now see that the Logistic Regression underestimated the average loss of misidentified  defaults in "
   ]
  },
  {
   "cell_type": "code",
   "execution_count": 50,
   "id": "2b1d48d0",
   "metadata": {},
   "outputs": [
    {
     "name": "stdout",
     "output_type": "stream",
     "text": [
      "318,590.9055 €\n"
     ]
    }
   ],
   "source": [
    "print(\"{:,.4f} €\".format(default_rr-2355525.5305))"
   ]
  },
  {
   "cell_type": "code",
   "execution_count": null,
   "id": "e0722c04",
   "metadata": {},
   "outputs": [],
   "source": []
  }
 ],
 "metadata": {
  "kernelspec": {
   "display_name": "Python 3 (ipykernel)",
   "language": "python",
   "name": "python3"
  },
  "language_info": {
   "codemirror_mode": {
    "name": "ipython",
    "version": 3
   },
   "file_extension": ".py",
   "mimetype": "text/x-python",
   "name": "python",
   "nbconvert_exporter": "python",
   "pygments_lexer": "ipython3",
   "version": "3.9.7"
  }
 },
 "nbformat": 4,
 "nbformat_minor": 5
}
