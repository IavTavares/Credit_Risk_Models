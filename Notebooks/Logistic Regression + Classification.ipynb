{
 "cells": [
  {
   "cell_type": "code",
   "execution_count": 1,
   "id": "0f6d7421",
   "metadata": {},
   "outputs": [],
   "source": [
    "import pandas as pd\n",
    "import numpy as np\n",
    "import matplotlib.pyplot as plt\n",
    "import seaborn as sns\n",
    "\n",
    "from sklearn.linear_model import LogisticRegression\n",
    "from sklearn.model_selection import ShuffleSplit, KFold, cross_val_score\n",
    "from sklearn.metrics import classification_report, RocCurveDisplay, roc_curve,\\\n",
    "roc_auc_score,precision_recall_fscore_support\n",
    "\n",
    "import optuna"
   ]
  },
  {
   "cell_type": "code",
   "execution_count": 2,
   "id": "fb5e4f12",
   "metadata": {},
   "outputs": [],
   "source": [
    "sns.set()"
   ]
  },
  {
   "cell_type": "code",
   "execution_count": 3,
   "id": "8cffa816",
   "metadata": {},
   "outputs": [],
   "source": [
    "X_train = pd.read_csv(r\"..\\Data Set\\X_train.csv\")\n",
    "X_test = pd.read_csv(r\"..\\Data Set\\X_test.csv\")\n",
    "Y_train = pd.read_csv(r\"..\\Data Set\\Y_train.csv\")\n",
    "Y_test = pd.read_csv(r\"..\\Data Set\\Y_test.csv\")"
   ]
  },
  {
   "cell_type": "code",
   "execution_count": 4,
   "id": "e808d5d2",
   "metadata": {},
   "outputs": [
    {
     "data": {
      "text/html": [
       "<div>\n",
       "<style scoped>\n",
       "    .dataframe tbody tr th:only-of-type {\n",
       "        vertical-align: middle;\n",
       "    }\n",
       "\n",
       "    .dataframe tbody tr th {\n",
       "        vertical-align: top;\n",
       "    }\n",
       "\n",
       "    .dataframe thead th {\n",
       "        text-align: right;\n",
       "    }\n",
       "</style>\n",
       "<table border=\"1\" class=\"dataframe\">\n",
       "  <thead>\n",
       "    <tr style=\"text-align: right;\">\n",
       "      <th></th>\n",
       "      <th>person_age</th>\n",
       "      <th>person_income</th>\n",
       "      <th>person_home_ownership_enc</th>\n",
       "      <th>person_emp_length</th>\n",
       "      <th>loan_intent_enc</th>\n",
       "      <th>loan_grade_enc</th>\n",
       "      <th>loan_amnt</th>\n",
       "      <th>loan_int_rate</th>\n",
       "      <th>loan_percent_income</th>\n",
       "    </tr>\n",
       "  </thead>\n",
       "  <tbody>\n",
       "    <tr>\n",
       "      <th>0</th>\n",
       "      <td>26</td>\n",
       "      <td>72000</td>\n",
       "      <td>3</td>\n",
       "      <td>8.0</td>\n",
       "      <td>4</td>\n",
       "      <td>0</td>\n",
       "      <td>7000</td>\n",
       "      <td>9.32</td>\n",
       "      <td>0.10</td>\n",
       "    </tr>\n",
       "    <tr>\n",
       "      <th>1</th>\n",
       "      <td>22</td>\n",
       "      <td>75000</td>\n",
       "      <td>3</td>\n",
       "      <td>2.0</td>\n",
       "      <td>1</td>\n",
       "      <td>1</td>\n",
       "      <td>19600</td>\n",
       "      <td>12.42</td>\n",
       "      <td>0.26</td>\n",
       "    </tr>\n",
       "    <tr>\n",
       "      <th>2</th>\n",
       "      <td>32</td>\n",
       "      <td>86000</td>\n",
       "      <td>3</td>\n",
       "      <td>4.0</td>\n",
       "      <td>1</td>\n",
       "      <td>2</td>\n",
       "      <td>1600</td>\n",
       "      <td>13.23</td>\n",
       "      <td>0.02</td>\n",
       "    </tr>\n",
       "    <tr>\n",
       "      <th>3</th>\n",
       "      <td>28</td>\n",
       "      <td>80569</td>\n",
       "      <td>0</td>\n",
       "      <td>2.0</td>\n",
       "      <td>1</td>\n",
       "      <td>1</td>\n",
       "      <td>4000</td>\n",
       "      <td>9.63</td>\n",
       "      <td>0.05</td>\n",
       "    </tr>\n",
       "    <tr>\n",
       "      <th>4</th>\n",
       "      <td>33</td>\n",
       "      <td>41196</td>\n",
       "      <td>2</td>\n",
       "      <td>0.0</td>\n",
       "      <td>5</td>\n",
       "      <td>2</td>\n",
       "      <td>3300</td>\n",
       "      <td>12.99</td>\n",
       "      <td>0.08</td>\n",
       "    </tr>\n",
       "  </tbody>\n",
       "</table>\n",
       "</div>"
      ],
      "text/plain": [
       "   person_age  person_income  person_home_ownership_enc  person_emp_length  \\\n",
       "0          26          72000                          3                8.0   \n",
       "1          22          75000                          3                2.0   \n",
       "2          32          86000                          3                4.0   \n",
       "3          28          80569                          0                2.0   \n",
       "4          33          41196                          2                0.0   \n",
       "\n",
       "   loan_intent_enc  loan_grade_enc  loan_amnt  loan_int_rate  \\\n",
       "0                4               0       7000           9.32   \n",
       "1                1               1      19600          12.42   \n",
       "2                1               2       1600          13.23   \n",
       "3                1               1       4000           9.63   \n",
       "4                5               2       3300          12.99   \n",
       "\n",
       "   loan_percent_income  \n",
       "0                 0.10  \n",
       "1                 0.26  \n",
       "2                 0.02  \n",
       "3                 0.05  \n",
       "4                 0.08  "
      ]
     },
     "execution_count": 4,
     "metadata": {},
     "output_type": "execute_result"
    }
   ],
   "source": [
    "X_train.head()"
   ]
  },
  {
   "cell_type": "markdown",
   "id": "ef907b65",
   "metadata": {},
   "source": [
    "# Baseline Model - Logistic Regression + Threshold"
   ]
  },
  {
   "cell_type": "code",
   "execution_count": 5,
   "id": "8596b1f9",
   "metadata": {},
   "outputs": [],
   "source": [
    "reg_base=LogisticRegression()"
   ]
  },
  {
   "cell_type": "code",
   "execution_count": 6,
   "id": "8afa0eb8",
   "metadata": {},
   "outputs": [
    {
     "data": {
      "text/plain": [
       "LogisticRegression()"
      ]
     },
     "execution_count": 6,
     "metadata": {},
     "output_type": "execute_result"
    }
   ],
   "source": [
    "reg_base.fit(X_train, np.ravel(Y_train))"
   ]
  },
  {
   "cell_type": "code",
   "execution_count": 7,
   "id": "96f4cc47",
   "metadata": {},
   "outputs": [
    {
     "name": "stdout",
     "output_type": "stream",
     "text": [
      "Feature Name: person_age, Coefficient Estimation: -6.186348830084295e-08\n",
      "\n",
      "Feature Name: person_income, Coefficient Estimation: -4.161450131374798e-05\n",
      "\n",
      "Feature Name: person_home_ownership_enc, Coefficient Estimation: 1.5334001014597624e-08\n",
      "\n",
      "Feature Name: person_emp_length, Coefficient Estimation: -2.792063455238969e-08\n",
      "\n",
      "Feature Name: loan_intent_enc, Coefficient Estimation: -1.9694796539003133e-08\n",
      "\n",
      "Feature Name: loan_grade_enc, Coefficient Estimation: 4.514477657245723e-08\n",
      "\n",
      "Feature Name: loan_amnt, Coefficient Estimation: 0.00011194766763487943\n",
      "\n",
      "Feature Name: loan_int_rate, Coefficient Estimation: 9.100070208325665e-08\n",
      "\n",
      "Feature Name: loan_percent_income, Coefficient Estimation: 2.5703197768503946e-09\n",
      "\n"
     ]
    }
   ],
   "source": [
    "for name,coef in zip(X_train.columns,np.ravel(reg_base.coef_)):\n",
    "    print(\"Feature Name: {}, Coefficient Estimation: {}\\n\".format(name,coef))"
   ]
  },
  {
   "cell_type": "markdown",
   "id": "2035e0fb",
   "metadata": {},
   "source": [
    "Given that $$\\text{Logistic}(X)=\\frac{1}{1+\\exp(-\\textbf{X}\\beta)}$$\n",
    "\n",
    "with loan default being labeled as 1 in our dataset, those features with negative estimations, when increased, will diminish the probability of default.\n",
    "For example, income, age, employment length, as they increase they diminish the prob of default, which makes sense. Check [this link](https://online.stat.psu.edu/stat462/node/207/) for further information on the interpretability of this model and associated hypothesis tests."
   ]
  },
  {
   "cell_type": "code",
   "execution_count": 8,
   "id": "d4604749",
   "metadata": {},
   "outputs": [],
   "source": [
    "Y_pred=reg_base.predict(X_test)"
   ]
  },
  {
   "cell_type": "code",
   "execution_count": 9,
   "id": "5a8f2625",
   "metadata": {},
   "outputs": [
    {
     "data": {
      "text/plain": [
       "array([[0.9475259 , 0.0524741 ],\n",
       "       [0.79904254, 0.20095746],\n",
       "       [0.84350198, 0.15649802],\n",
       "       ...,\n",
       "       [0.72162612, 0.27837388],\n",
       "       [0.79082847, 0.20917153],\n",
       "       [0.93086398, 0.06913602]])"
      ]
     },
     "execution_count": 9,
     "metadata": {},
     "output_type": "execute_result"
    }
   ],
   "source": [
    "preds= reg_base.predict_proba(X_test)\n",
    "preds"
   ]
  },
  {
   "cell_type": "code",
   "execution_count": 10,
   "id": "bce0961b",
   "metadata": {},
   "outputs": [
    {
     "data": {
      "text/plain": [
       "array([0, 1], dtype=int64)"
      ]
     },
     "execution_count": 10,
     "metadata": {},
     "output_type": "execute_result"
    }
   ],
   "source": [
    "reg_base.classes_ # loan_status of 1 is default."
   ]
  },
  {
   "cell_type": "code",
   "execution_count": 11,
   "id": "e9d74e77",
   "metadata": {},
   "outputs": [],
   "source": [
    "preds_df = pd.DataFrame(preds[:,1], columns = ['prob_default'])"
   ]
  },
  {
   "cell_type": "code",
   "execution_count": 12,
   "id": "3ee7cfd4",
   "metadata": {},
   "outputs": [],
   "source": [
    "preds_df[\"loan_status\"] = preds_df[\"prob_default\"].apply(lambda x: 1 if x > 0.5 else 0)"
   ]
  },
  {
   "cell_type": "code",
   "execution_count": 13,
   "id": "2cd65c4a",
   "metadata": {},
   "outputs": [
    {
     "data": {
      "text/html": [
       "<div>\n",
       "<style scoped>\n",
       "    .dataframe tbody tr th:only-of-type {\n",
       "        vertical-align: middle;\n",
       "    }\n",
       "\n",
       "    .dataframe tbody tr th {\n",
       "        vertical-align: top;\n",
       "    }\n",
       "\n",
       "    .dataframe thead th {\n",
       "        text-align: right;\n",
       "    }\n",
       "</style>\n",
       "<table border=\"1\" class=\"dataframe\">\n",
       "  <thead>\n",
       "    <tr style=\"text-align: right;\">\n",
       "      <th></th>\n",
       "      <th>prob_default</th>\n",
       "      <th>loan_status</th>\n",
       "    </tr>\n",
       "  </thead>\n",
       "  <tbody>\n",
       "    <tr>\n",
       "      <th>0</th>\n",
       "      <td>0.052474</td>\n",
       "      <td>0</td>\n",
       "    </tr>\n",
       "    <tr>\n",
       "      <th>1</th>\n",
       "      <td>0.200957</td>\n",
       "      <td>0</td>\n",
       "    </tr>\n",
       "    <tr>\n",
       "      <th>2</th>\n",
       "      <td>0.156498</td>\n",
       "      <td>0</td>\n",
       "    </tr>\n",
       "    <tr>\n",
       "      <th>3</th>\n",
       "      <td>0.325126</td>\n",
       "      <td>0</td>\n",
       "    </tr>\n",
       "    <tr>\n",
       "      <th>4</th>\n",
       "      <td>0.160817</td>\n",
       "      <td>0</td>\n",
       "    </tr>\n",
       "  </tbody>\n",
       "</table>\n",
       "</div>"
      ],
      "text/plain": [
       "   prob_default  loan_status\n",
       "0      0.052474            0\n",
       "1      0.200957            0\n",
       "2      0.156498            0\n",
       "3      0.325126            0\n",
       "4      0.160817            0"
      ]
     },
     "execution_count": 13,
     "metadata": {},
     "output_type": "execute_result"
    }
   ],
   "source": [
    "preds_df.head()"
   ]
  },
  {
   "cell_type": "code",
   "execution_count": 14,
   "id": "a8ec0bbc",
   "metadata": {
    "scrolled": true
   },
   "outputs": [
    {
     "data": {
      "text/plain": [
       "0    5434\n",
       "1     294\n",
       "Name: loan_status, dtype: int64"
      ]
     },
     "execution_count": 14,
     "metadata": {},
     "output_type": "execute_result"
    }
   ],
   "source": [
    "preds_df[\"loan_status\"].value_counts() # we predict 294 defaults"
   ]
  },
  {
   "cell_type": "markdown",
   "id": "60d35a36",
   "metadata": {},
   "source": [
    "# Measuring the Performance of our Model"
   ]
  },
  {
   "cell_type": "code",
   "execution_count": 15,
   "id": "b2830767",
   "metadata": {},
   "outputs": [
    {
     "name": "stdout",
     "output_type": "stream",
     "text": [
      "              precision    recall  f1-score   support\n",
      "\n",
      " Non-Default       0.81      0.98      0.89      4465\n",
      "     Default       0.72      0.17      0.27      1263\n",
      "\n",
      "    accuracy                           0.80      5728\n",
      "   macro avg       0.76      0.57      0.58      5728\n",
      "weighted avg       0.79      0.80      0.75      5728\n",
      "\n"
     ]
    }
   ],
   "source": [
    "# Classification Report follows the order from reg_base.classes_\n",
    "# Label 0, Label 1, etc.\n",
    "\n",
    "target_names = ['Non-Default', 'Default']\n",
    "print(classification_report(Y_test,preds_df[\"loan_status\"], target_names=target_names))"
   ]
  },
  {
   "cell_type": "markdown",
   "id": "18406074",
   "metadata": {},
   "source": [
    "**Positive Predictive Value** (or **Precision**):\n",
    "$$\\text{PPV}=\\frac{TP}{TP+FP}$$ \n",
    "+ The proportion of True Positives out of all Classified Positives. The False Positives are Data Negatives the model classified as Positives.\n",
    "\n",
    "**Negative Predictive Value**:\n",
    "$$\\text{NPV}=\\frac{TN}{TN+FN}$$ \n",
    "+ The proportion of True Negatives out of all Classified Negatives.\n",
    "\n",
    "**True Positive Rate** (or **Recall**):\n",
    "$$\\text{TPR}=\\frac{TP}{TP+FN}$$\n",
    "+ Proportion of Positives from all Data Positives. Here, FN are Classified Negatives which are in fact Data Positives.\n",
    "\n",
    "**True Negative Rate** (or **Specificity**):\n",
    "$$\\text{TNR}=\\frac{TN}{TN+FP}$$\n",
    "+ Proportion of Negatives from all Data Negatives. Here, FP are Classified Positives which are in fact Data Negatives.\n",
    "\n",
    "**F1-Score**:\n",
    "$$F1=2\\times \\frac{PPV+TPR}{PPV\\times TPR}$$\n",
    "+ It's the harmonic mean of Precision and Recall. Used when in the presence of imbalanced classes. "
   ]
  },
  {
   "cell_type": "code",
   "execution_count": 16,
   "id": "18595c9b",
   "metadata": {
    "scrolled": true
   },
   "outputs": [
    {
     "name": "stdout",
     "output_type": "stream",
     "text": [
      "0.8018505586592178\n"
     ]
    }
   ],
   "source": [
    "# Print the accuracy score the model\n",
    "print(reg_base.score(X_test, Y_test))"
   ]
  },
  {
   "cell_type": "code",
   "execution_count": 17,
   "id": "ea56f811",
   "metadata": {
    "scrolled": true
   },
   "outputs": [
    {
     "data": {
      "image/png": "[encoded data removed]",
      "text/plain": [
       "<Figure size 432x288 with 1 Axes>"
      ]
     },
     "metadata": {},
     "output_type": "display_data"
    }
   ],
   "source": [
    "# Plot the ROC curve of the probabilities of default\n",
    "prob_default =preds_df[\"prob_default\"] # preds[:, 1]\n",
    "fallout, sensitivity, thresholds = roc_curve(Y_test, prob_default)\n",
    "plt.plot(fallout, sensitivity, color = 'darkorange', \n",
    "         label = \"Logistic Regression + Threshold\")\n",
    "\n",
    "\n",
    "plt.plot([0, 1], [0, 1], linestyle='--', label=\"Random Classifier\")\n",
    "\n",
    "plt.legend(title='Receiver Operating Characteristic Curves')\n",
    "\n",
    "plt.show()"
   ]
  },
  {
   "cell_type": "code",
   "execution_count": 18,
   "id": "293d1a48",
   "metadata": {},
   "outputs": [],
   "source": [
    "pd.DataFrame({'fallout':fallout, \n",
    "              'sensitivity':sensitivity}).to_csv(r\"..\\Data Set\\Roc_Logistic.csv\", \n",
    "                                                 index=False)\n"
   ]
  },
  {
   "cell_type": "code",
   "execution_count": 19,
   "id": "c2b6962c",
   "metadata": {},
   "outputs": [
    {
     "data": {
      "text/plain": [
       "0.7528467654201456"
      ]
     },
     "execution_count": 19,
     "metadata": {},
     "output_type": "execute_result"
    }
   ],
   "source": [
    "# Compute the AUC and store it in a variable\n",
    "auc = roc_auc_score(Y_test, prob_default)\n",
    "auc"
   ]
  },
  {
   "cell_type": "markdown",
   "id": "4da7e0dd",
   "metadata": {},
   "source": [
    "TODO:\n",
    "+ Add an auto-tuning feature for the threshold. It will improve our model performance."
   ]
  },
  {
   "cell_type": "code",
   "execution_count": 20,
   "id": "d52d60b9",
   "metadata": {},
   "outputs": [
    {
     "name": "stdout",
     "output_type": "stream",
     "text": [
      "The estimated average loss of undetected defaults is 2,355,525.5305 €\n"
     ]
    }
   ],
   "source": [
    "# number of loan defaults from the prediction data\n",
    "n_defaults = preds_df[\"loan_status\"].value_counts()[1]\n",
    "\n",
    "# default recall - True Default (Positive) Rate : proportion of correctly identified defaults\n",
    "# out of all data defaults\n",
    "default_recall = precision_recall_fscore_support(Y_test,preds_df[\"loan_status\"])[1][1]\n",
    "\n",
    "avg_loan_amnt=X_test[\"loan_amnt\"].mean()\n",
    "\n",
    "# Calculate the estimated impact of the new default recall rate\n",
    "\n",
    "default_rr=n_defaults * avg_loan_amnt * (1 - default_recall)\n",
    "\n",
    "print(\"The estimated average loss of misidentified defaults is {:,.4f} €\".format(default_rr))\n",
    "    "
   ]
  },
  {
   "cell_type": "code",
   "execution_count": null,
   "id": "8afcfdec",
   "metadata": {},
   "outputs": [],
   "source": []
  }
 ],
 "metadata": {
  "kernelspec": {
   "display_name": "Python 3 (ipykernel)",
   "language": "python",
   "name": "python3"
  },
  "language_info": {
   "codemirror_mode": {
    "name": "ipython",
    "version": 3
   },
   "file_extension": ".py",
   "mimetype": "text/x-python",
   "name": "python",
   "nbconvert_exporter": "python",
   "pygments_lexer": "ipython3",
   "version": "3.9.7"
  }
 },
 "nbformat": 4,
 "nbformat_minor": 5
}
