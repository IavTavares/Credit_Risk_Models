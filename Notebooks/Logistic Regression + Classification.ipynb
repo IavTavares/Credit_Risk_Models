{
 "cells": [
  {
   "cell_type": "code",
   "execution_count": 1,
   "id": "0f6d7421",
   "metadata": {},
   "outputs": [
    {
     "name": "stderr",
     "output_type": "stream",
     "text": [
      "/home/ivo/Programming_Personal_Projects/Credit_Risk_Models/.env_cred/lib/python3.10/site-packages/tqdm/auto.py:22: TqdmWarning: IProgress not found. Please update jupyter and ipywidgets. See https://ipywidgets.readthedocs.io/en/stable/user_install.html\n",
      "  from .autonotebook import tqdm as notebook_tqdm\n"
     ]
    }
   ],
   "source": [
    "import pandas as pd\n",
    "import numpy as np\n",
    "import matplotlib.pyplot as plt\n",
    "import seaborn as sns\n",
    "\n",
    "from sklearn.linear_model import LogisticRegression\n",
    "from sklearn.model_selection import ShuffleSplit, KFold, cross_val_score\n",
    "from sklearn.metrics import classification_report, RocCurveDisplay, roc_curve,\\\n",
    "roc_auc_score,precision_recall_fscore_support\n",
    "\n",
    "import optuna"
   ]
  },
  {
   "cell_type": "code",
   "execution_count": 11,
   "id": "fb5e4f12",
   "metadata": {},
   "outputs": [],
   "source": [
    "sns.set()\n",
    "import os\n",
    "PROJ_PATH = os.path.abspath(os.path.pardir)\n",
    "DATA_FOLDER_PATH = os.path.join(PROJ_PATH,\"Data Set\")"
   ]
  },
  {
   "cell_type": "code",
   "execution_count": 12,
   "id": "51a1016c",
   "metadata": {},
   "outputs": [
    {
     "data": {
      "text/plain": [
       "'/home/ivo/Programming_Personal_Projects/Credit_Risk_Models/Data Set'"
      ]
     },
     "execution_count": 12,
     "metadata": {},
     "output_type": "execute_result"
    }
   ],
   "source": [
    "DATA_FOLDER_PATH"
   ]
  },
  {
   "cell_type": "code",
   "execution_count": 13,
   "id": "8cffa816",
   "metadata": {},
   "outputs": [],
   "source": [
    "X_train = pd.read_csv(os.path.join(DATA_FOLDER_PATH,\"X_train.csv\"))\n",
    "X_test = pd.read_csv(os.path.join(DATA_FOLDER_PATH,\"X_test.csv\"))\n",
    "Y_train = pd.read_csv(os.path.join(DATA_FOLDER_PATH,\"Y_train.csv\"))\n",
    "Y_test = pd.read_csv(os.path.join(DATA_FOLDER_PATH,\"Y_test.csv\"))"
   ]
  },
  {
   "cell_type": "code",
   "execution_count": 14,
   "id": "e808d5d2",
   "metadata": {},
   "outputs": [
    {
     "data": {
      "text/html": [
       "<div>\n",
       "<style scoped>\n",
       "    .dataframe tbody tr th:only-of-type {\n",
       "        vertical-align: middle;\n",
       "    }\n",
       "\n",
       "    .dataframe tbody tr th {\n",
       "        vertical-align: top;\n",
       "    }\n",
       "\n",
       "    .dataframe thead th {\n",
       "        text-align: right;\n",
       "    }\n",
       "</style>\n",
       "<table border=\"1\" class=\"dataframe\">\n",
       "  <thead>\n",
       "    <tr style=\"text-align: right;\">\n",
       "      <th></th>\n",
       "      <th>person_age</th>\n",
       "      <th>person_income</th>\n",
       "      <th>person_home_ownership_enc</th>\n",
       "      <th>person_emp_length</th>\n",
       "      <th>loan_intent_enc</th>\n",
       "      <th>loan_grade_enc</th>\n",
       "      <th>loan_amnt</th>\n",
       "      <th>loan_int_rate</th>\n",
       "      <th>loan_percent_income</th>\n",
       "    </tr>\n",
       "  </thead>\n",
       "  <tbody>\n",
       "    <tr>\n",
       "      <th>0</th>\n",
       "      <td>26</td>\n",
       "      <td>72000</td>\n",
       "      <td>3</td>\n",
       "      <td>8.0</td>\n",
       "      <td>4</td>\n",
       "      <td>0</td>\n",
       "      <td>7000</td>\n",
       "      <td>9.32</td>\n",
       "      <td>0.10</td>\n",
       "    </tr>\n",
       "    <tr>\n",
       "      <th>1</th>\n",
       "      <td>22</td>\n",
       "      <td>75000</td>\n",
       "      <td>3</td>\n",
       "      <td>2.0</td>\n",
       "      <td>1</td>\n",
       "      <td>1</td>\n",
       "      <td>19600</td>\n",
       "      <td>12.42</td>\n",
       "      <td>0.26</td>\n",
       "    </tr>\n",
       "    <tr>\n",
       "      <th>2</th>\n",
       "      <td>32</td>\n",
       "      <td>86000</td>\n",
       "      <td>3</td>\n",
       "      <td>4.0</td>\n",
       "      <td>1</td>\n",
       "      <td>2</td>\n",
       "      <td>1600</td>\n",
       "      <td>13.23</td>\n",
       "      <td>0.02</td>\n",
       "    </tr>\n",
       "    <tr>\n",
       "      <th>3</th>\n",
       "      <td>28</td>\n",
       "      <td>80569</td>\n",
       "      <td>0</td>\n",
       "      <td>2.0</td>\n",
       "      <td>1</td>\n",
       "      <td>1</td>\n",
       "      <td>4000</td>\n",
       "      <td>9.63</td>\n",
       "      <td>0.05</td>\n",
       "    </tr>\n",
       "    <tr>\n",
       "      <th>4</th>\n",
       "      <td>33</td>\n",
       "      <td>41196</td>\n",
       "      <td>2</td>\n",
       "      <td>0.0</td>\n",
       "      <td>5</td>\n",
       "      <td>2</td>\n",
       "      <td>3300</td>\n",
       "      <td>12.99</td>\n",
       "      <td>0.08</td>\n",
       "    </tr>\n",
       "  </tbody>\n",
       "</table>\n",
       "</div>"
      ],
      "text/plain": [
       "   person_age  person_income  person_home_ownership_enc  person_emp_length  \\\n",
       "0          26          72000                          3                8.0   \n",
       "1          22          75000                          3                2.0   \n",
       "2          32          86000                          3                4.0   \n",
       "3          28          80569                          0                2.0   \n",
       "4          33          41196                          2                0.0   \n",
       "\n",
       "   loan_intent_enc  loan_grade_enc  loan_amnt  loan_int_rate  \\\n",
       "0                4               0       7000           9.32   \n",
       "1                1               1      19600          12.42   \n",
       "2                1               2       1600          13.23   \n",
       "3                1               1       4000           9.63   \n",
       "4                5               2       3300          12.99   \n",
       "\n",
       "   loan_percent_income  \n",
       "0                 0.10  \n",
       "1                 0.26  \n",
       "2                 0.02  \n",
       "3                 0.05  \n",
       "4                 0.08  "
      ]
     },
     "execution_count": 14,
     "metadata": {},
     "output_type": "execute_result"
    }
   ],
   "source": [
    "X_train.head()"
   ]
  },
  {
   "cell_type": "markdown",
   "id": "ef907b65",
   "metadata": {},
   "source": [
    "# Baseline Model - Logistic Regression + Threshold"
   ]
  },
  {
   "cell_type": "code",
   "execution_count": 4,
   "id": "8596b1f9",
   "metadata": {},
   "outputs": [],
   "source": [
    "reg_base=LogisticRegression()"
   ]
  },
  {
   "cell_type": "code",
   "execution_count": 15,
   "id": "8afa0eb8",
   "metadata": {},
   "outputs": [
    {
     "data": {
      "text/html": [
       "<style>#sk-container-id-1 {color: black;background-color: white;}#sk-container-id-1 pre{padding: 0;}#sk-container-id-1 div.sk-toggleable {background-color: white;}#sk-container-id-1 label.sk-toggleable__label {cursor: pointer;display: block;width: 100%;margin-bottom: 0;padding: 0.3em;box-sizing: border-box;text-align: center;}#sk-container-id-1 label.sk-toggleable__label-arrow:before {content: \"▸\";float: left;margin-right: 0.25em;color: #696969;}#sk-container-id-1 label.sk-toggleable__label-arrow:hover:before {color: black;}#sk-container-id-1 div.sk-estimator:hover label.sk-toggleable__label-arrow:before {color: black;}#sk-container-id-1 div.sk-toggleable__content {max-height: 0;max-width: 0;overflow: hidden;text-align: left;background-color: #f0f8ff;}#sk-container-id-1 div.sk-toggleable__content pre {margin: 0.2em;color: black;border-radius: 0.25em;background-color: #f0f8ff;}#sk-container-id-1 input.sk-toggleable__control:checked~div.sk-toggleable__content {max-height: 200px;max-width: 100%;overflow: auto;}#sk-container-id-1 input.sk-toggleable__control:checked~label.sk-toggleable__label-arrow:before {content: \"▾\";}#sk-container-id-1 div.sk-estimator input.sk-toggleable__control:checked~label.sk-toggleable__label {background-color: #d4ebff;}#sk-container-id-1 div.sk-label input.sk-toggleable__control:checked~label.sk-toggleable__label {background-color: #d4ebff;}#sk-container-id-1 input.sk-hidden--visually {border: 0;clip: rect(1px 1px 1px 1px);clip: rect(1px, 1px, 1px, 1px);height: 1px;margin: -1px;overflow: hidden;padding: 0;position: absolute;width: 1px;}#sk-container-id-1 div.sk-estimator {font-family: monospace;background-color: #f0f8ff;border: 1px dotted black;border-radius: 0.25em;box-sizing: border-box;margin-bottom: 0.5em;}#sk-container-id-1 div.sk-estimator:hover {background-color: #d4ebff;}#sk-container-id-1 div.sk-parallel-item::after {content: \"\";width: 100%;border-bottom: 1px solid gray;flex-grow: 1;}#sk-container-id-1 div.sk-label:hover label.sk-toggleable__label {background-color: #d4ebff;}#sk-container-id-1 div.sk-serial::before {content: \"\";position: absolute;border-left: 1px solid gray;box-sizing: border-box;top: 0;bottom: 0;left: 50%;z-index: 0;}#sk-container-id-1 div.sk-serial {display: flex;flex-direction: column;align-items: center;background-color: white;padding-right: 0.2em;padding-left: 0.2em;position: relative;}#sk-container-id-1 div.sk-item {position: relative;z-index: 1;}#sk-container-id-1 div.sk-parallel {display: flex;align-items: stretch;justify-content: center;background-color: white;position: relative;}#sk-container-id-1 div.sk-item::before, #sk-container-id-1 div.sk-parallel-item::before {content: \"\";position: absolute;border-left: 1px solid gray;box-sizing: border-box;top: 0;bottom: 0;left: 50%;z-index: -1;}#sk-container-id-1 div.sk-parallel-item {display: flex;flex-direction: column;z-index: 1;position: relative;background-color: white;}#sk-container-id-1 div.sk-parallel-item:first-child::after {align-self: flex-end;width: 50%;}#sk-container-id-1 div.sk-parallel-item:last-child::after {align-self: flex-start;width: 50%;}#sk-container-id-1 div.sk-parallel-item:only-child::after {width: 0;}#sk-container-id-1 div.sk-dashed-wrapped {border: 1px dashed gray;margin: 0 0.4em 0.5em 0.4em;box-sizing: border-box;padding-bottom: 0.4em;background-color: white;}#sk-container-id-1 div.sk-label label {font-family: monospace;font-weight: bold;display: inline-block;line-height: 1.2em;}#sk-container-id-1 div.sk-label-container {text-align: center;}#sk-container-id-1 div.sk-container {/* jupyter's `normalize.less` sets `[hidden] { display: none; }` but bootstrap.min.css set `[hidden] { display: none !important; }` so we also need the `!important` here to be able to override the default hidden behavior on the sphinx rendered scikit-learn.org. See: https://github.com/scikit-learn/scikit-learn/issues/21755 */display: inline-block !important;position: relative;}#sk-container-id-1 div.sk-text-repr-fallback {display: none;}</style><div id=\"sk-container-id-1\" class=\"sk-top-container\"><div class=\"sk-text-repr-fallback\"><pre>LogisticRegression()</pre><b>In a Jupyter environment, please rerun this cell to show the HTML representation or trust the notebook. <br />On GitHub, the HTML representation is unable to render, please try loading this page with nbviewer.org.</b></div><div class=\"sk-container\" hidden><div class=\"sk-item\"><div class=\"sk-estimator sk-toggleable\"><input class=\"sk-toggleable__control sk-hidden--visually\" id=\"sk-estimator-id-1\" type=\"checkbox\" checked><label for=\"sk-estimator-id-1\" class=\"sk-toggleable__label sk-toggleable__label-arrow\">LogisticRegression</label><div class=\"sk-toggleable__content\"><pre>LogisticRegression()</pre></div></div></div></div></div>"
      ],
      "text/plain": [
       "LogisticRegression()"
      ]
     },
     "execution_count": 15,
     "metadata": {},
     "output_type": "execute_result"
    }
   ],
   "source": [
    "reg_base.fit(X_train, np.ravel(Y_train))"
   ]
  },
  {
   "cell_type": "code",
   "execution_count": 16,
   "id": "96f4cc47",
   "metadata": {},
   "outputs": [
    {
     "name": "stdout",
     "output_type": "stream",
     "text": [
      "Feature Name: person_age, Coefficient Estimation: -6.186348830084245e-08\n",
      "\n",
      "Feature Name: person_income, Coefficient Estimation: -4.161450131374798e-05\n",
      "\n",
      "Feature Name: person_home_ownership_enc, Coefficient Estimation: 1.533400101459756e-08\n",
      "\n",
      "Feature Name: person_emp_length, Coefficient Estimation: -2.792063455238959e-08\n",
      "\n",
      "Feature Name: loan_intent_enc, Coefficient Estimation: -1.9694796539003056e-08\n",
      "\n",
      "Feature Name: loan_grade_enc, Coefficient Estimation: 4.5144776572456986e-08\n",
      "\n",
      "Feature Name: loan_amnt, Coefficient Estimation: 0.00011194766763487945\n",
      "\n",
      "Feature Name: loan_int_rate, Coefficient Estimation: 9.10007020832563e-08\n",
      "\n",
      "Feature Name: loan_percent_income, Coefficient Estimation: 2.5703197768503884e-09\n",
      "\n"
     ]
    }
   ],
   "source": [
    "for name,coef in zip(X_train.columns,np.ravel(reg_base.coef_)):\n",
    "    print(\"Feature Name: {}, Coefficient Estimation: {}\\n\".format(name,coef))"
   ]
  },
  {
   "cell_type": "markdown",
   "id": "2035e0fb",
   "metadata": {},
   "source": [
    "Given that $$\\text{Logistic}(X)=\\frac{1}{1+\\exp(-\\textbf{X}\\beta)}$$\n",
    "\n",
    "with loan default being labeled as 1 in our dataset, those features with negative estimations, when increased, will diminish the probability of default.\n",
    "For example, income, age, employment length, as they increase they diminish the prob of default, which makes sense. Check [this link](https://online.stat.psu.edu/stat462/node/207/) for further information on the interpretability of this model and associated hypothesis tests."
   ]
  },
  {
   "cell_type": "code",
   "execution_count": 17,
   "id": "d4604749",
   "metadata": {},
   "outputs": [],
   "source": [
    "Y_pred=reg_base.predict(X_test)"
   ]
  },
  {
   "cell_type": "code",
   "execution_count": 18,
   "id": "5a8f2625",
   "metadata": {},
   "outputs": [
    {
     "data": {
      "text/plain": [
       "array([[0.9475259 , 0.0524741 ],\n",
       "       [0.79904254, 0.20095746],\n",
       "       [0.84350198, 0.15649802],\n",
       "       ...,\n",
       "       [0.72162612, 0.27837388],\n",
       "       [0.79082847, 0.20917153],\n",
       "       [0.93086398, 0.06913602]])"
      ]
     },
     "execution_count": 18,
     "metadata": {},
     "output_type": "execute_result"
    }
   ],
   "source": [
    "preds= reg_base.predict_proba(X_test)\n",
    "preds"
   ]
  },
  {
   "cell_type": "code",
   "execution_count": 19,
   "id": "bce0961b",
   "metadata": {},
   "outputs": [
    {
     "data": {
      "text/plain": [
       "array([0, 1])"
      ]
     },
     "execution_count": 19,
     "metadata": {},
     "output_type": "execute_result"
    }
   ],
   "source": [
    "reg_base.classes_ # loan_status of 1 is default."
   ]
  },
  {
   "cell_type": "code",
   "execution_count": 20,
   "id": "e9d74e77",
   "metadata": {},
   "outputs": [],
   "source": [
    "preds_df = pd.DataFrame(preds[:,1], columns = ['prob_default'])"
   ]
  },
  {
   "cell_type": "code",
   "execution_count": 21,
   "id": "3ee7cfd4",
   "metadata": {},
   "outputs": [],
   "source": [
    "preds_df[\"loan_status\"] = preds_df[\"prob_default\"].apply(lambda x: 1 if x > 0.5 else 0)"
   ]
  },
  {
   "cell_type": "code",
   "execution_count": 22,
   "id": "2cd65c4a",
   "metadata": {},
   "outputs": [
    {
     "data": {
      "text/html": [
       "<div>\n",
       "<style scoped>\n",
       "    .dataframe tbody tr th:only-of-type {\n",
       "        vertical-align: middle;\n",
       "    }\n",
       "\n",
       "    .dataframe tbody tr th {\n",
       "        vertical-align: top;\n",
       "    }\n",
       "\n",
       "    .dataframe thead th {\n",
       "        text-align: right;\n",
       "    }\n",
       "</style>\n",
       "<table border=\"1\" class=\"dataframe\">\n",
       "  <thead>\n",
       "    <tr style=\"text-align: right;\">\n",
       "      <th></th>\n",
       "      <th>prob_default</th>\n",
       "      <th>loan_status</th>\n",
       "    </tr>\n",
       "  </thead>\n",
       "  <tbody>\n",
       "    <tr>\n",
       "      <th>0</th>\n",
       "      <td>0.052474</td>\n",
       "      <td>0</td>\n",
       "    </tr>\n",
       "    <tr>\n",
       "      <th>1</th>\n",
       "      <td>0.200957</td>\n",
       "      <td>0</td>\n",
       "    </tr>\n",
       "    <tr>\n",
       "      <th>2</th>\n",
       "      <td>0.156498</td>\n",
       "      <td>0</td>\n",
       "    </tr>\n",
       "    <tr>\n",
       "      <th>3</th>\n",
       "      <td>0.325126</td>\n",
       "      <td>0</td>\n",
       "    </tr>\n",
       "    <tr>\n",
       "      <th>4</th>\n",
       "      <td>0.160817</td>\n",
       "      <td>0</td>\n",
       "    </tr>\n",
       "  </tbody>\n",
       "</table>\n",
       "</div>"
      ],
      "text/plain": [
       "   prob_default  loan_status\n",
       "0      0.052474            0\n",
       "1      0.200957            0\n",
       "2      0.156498            0\n",
       "3      0.325126            0\n",
       "4      0.160817            0"
      ]
     },
     "execution_count": 22,
     "metadata": {},
     "output_type": "execute_result"
    }
   ],
   "source": [
    "preds_df.head()"
   ]
  },
  {
   "cell_type": "code",
   "execution_count": 23,
   "id": "a8ec0bbc",
   "metadata": {
    "scrolled": true
   },
   "outputs": [
    {
     "data": {
      "text/plain": [
       "0    5434\n",
       "1     294\n",
       "Name: loan_status, dtype: int64"
      ]
     },
     "execution_count": 23,
     "metadata": {},
     "output_type": "execute_result"
    }
   ],
   "source": [
    "preds_df[\"loan_status\"].value_counts() # we predict 294 defaults"
   ]
  },
  {
   "cell_type": "markdown",
   "id": "60d35a36",
   "metadata": {},
   "source": [
    "# Measuring the Performance of our Model"
   ]
  },
  {
   "cell_type": "code",
   "execution_count": 24,
   "id": "b2830767",
   "metadata": {},
   "outputs": [
    {
     "name": "stdout",
     "output_type": "stream",
     "text": [
      "              precision    recall  f1-score   support\n",
      "\n",
      " Non-Default       0.81      0.98      0.89      4465\n",
      "     Default       0.72      0.17      0.27      1263\n",
      "\n",
      "    accuracy                           0.80      5728\n",
      "   macro avg       0.76      0.57      0.58      5728\n",
      "weighted avg       0.79      0.80      0.75      5728\n",
      "\n"
     ]
    }
   ],
   "source": [
    "# Classification Report follows the order from reg_base.classes_\n",
    "# Label 0, Label 1, etc.\n",
    "\n",
    "target_names = ['Non-Default', 'Default']\n",
    "print(classification_report(Y_test,preds_df[\"loan_status\"], target_names=target_names))"
   ]
  },
  {
   "cell_type": "markdown",
   "id": "18406074",
   "metadata": {},
   "source": [
    "**Positive Predictive Value** (or **Precision**):\n",
    "$$\\text{PPV}=\\frac{TP}{TP+FP}$$ \n",
    "+ The proportion of True Positives out of all Classified Positives. The False Positives are Data Negatives the model classified as Positives.\n",
    "\n",
    "**Negative Predictive Value**:\n",
    "$$\\text{NPV}=\\frac{TN}{TN+FN}$$ \n",
    "+ The proportion of True Negatives out of all Classified Negatives.\n",
    "\n",
    "**True Positive Rate** (or **Recall**):\n",
    "$$\\text{TPR}=\\frac{TP}{TP+FN}$$\n",
    "+ Proportion of Positives from all Data Positives. Here, FN are Classified Negatives which are in fact Data Positives.\n",
    "\n",
    "**True Negative Rate** (or **Specificity**):\n",
    "$$\\text{TNR}=\\frac{TN}{TN+FP}$$\n",
    "+ Proportion of Negatives from all Data Negatives. Here, FP are Classified Positives which are in fact Data Negatives.\n",
    "\n",
    "**F1-Score**:\n",
    "$$F1=2\\times \\frac{PPV+TPR}{PPV\\times TPR}$$\n",
    "+ It's the harmonic mean of Precision and Recall. Used when in the presence of imbalanced classes. "
   ]
  },
  {
   "cell_type": "code",
   "execution_count": 25,
   "id": "18595c9b",
   "metadata": {
    "scrolled": true
   },
   "outputs": [
    {
     "name": "stdout",
     "output_type": "stream",
     "text": [
      "0.8018505586592178\n"
     ]
    }
   ],
   "source": [
    "# Print the accuracy score the model\n",
    "print(reg_base.score(X_test, Y_test))"
   ]
  },
  {
   "cell_type": "code",
   "execution_count": 26,
   "id": "ea56f811",
   "metadata": {
    "scrolled": true
   },
   "outputs": [
    {
     "data": {
      "image/png": "[encoded data removed]",
      "text/plain": [
       "<Figure size 432x288 with 1 Axes>"
      ]
     },
     "metadata": {
      "needs_background": "light"
     },
     "output_type": "display_data"
    }
   ],
   "source": [
    "# Plot the ROC curve of the probabilities of default\n",
    "prob_default =preds_df[\"prob_default\"] # preds[:, 1]\n",
    "fallout, sensitivity, thresholds = roc_curve(Y_test, prob_default)\n",
    "plt.plot(fallout, sensitivity, color = 'darkorange', \n",
    "         label = \"Logistic Regression + Threshold\")\n",
    "\n",
    "\n",
    "plt.plot([0, 1], [0, 1], linestyle='--', label=\"Random Classifier\")\n",
    "\n",
    "plt.legend(title='Receiver Operating Characteristic Curves')\n",
    "\n",
    "plt.show()"
   ]
  },
  {
   "cell_type": "code",
   "execution_count": 27,
   "id": "293d1a48",
   "metadata": {},
   "outputs": [],
   "source": [
    "# pd.DataFrame({'fallout':fallout, \n",
    "#               'sensitivity':sensitivity}).to_csv(r\"..\\Data Set\\Roc_Logistic.csv\", \n",
    "#                                                  index=False)\n"
   ]
  },
  {
   "cell_type": "code",
   "execution_count": 28,
   "id": "c2b6962c",
   "metadata": {},
   "outputs": [
    {
     "data": {
      "text/plain": [
       "0.7528467654201456"
      ]
     },
     "execution_count": 28,
     "metadata": {},
     "output_type": "execute_result"
    }
   ],
   "source": [
    "# Compute the AUC and store it in a variable\n",
    "auc = roc_auc_score(Y_test, prob_default)\n",
    "auc"
   ]
  },
  {
   "cell_type": "code",
   "execution_count": 29,
   "id": "d52d60b9",
   "metadata": {},
   "outputs": [
    {
     "name": "stdout",
     "output_type": "stream",
     "text": [
      "The estimated average loss of misidentified defaults is 2,355,525.5305 €\n"
     ]
    }
   ],
   "source": [
    "# number of loan defaults from the prediction data\n",
    "n_defaults = preds_df[\"loan_status\"].value_counts()[1]\n",
    "\n",
    "# default recall - True Default (Positive) Rate : proportion of correctly identified defaults\n",
    "# out of all data defaults\n",
    "default_recall = precision_recall_fscore_support(Y_test,preds_df[\"loan_status\"])[1][1]\n",
    "\n",
    "avg_loan_amnt=X_test[\"loan_amnt\"].mean()\n",
    "\n",
    "# Calculate the estimated impact of the new default recall rate\n",
    "\n",
    "default_rr=n_defaults * avg_loan_amnt * (1 - default_recall)\n",
    "\n",
    "print(\"The estimated average loss of misidentified defaults is {:,.4f} €\".format(default_rr))\n",
    "    "
   ]
  },
  {
   "cell_type": "code",
   "execution_count": 31,
   "id": "e8fdc12f",
   "metadata": {},
   "outputs": [
    {
     "data": {
      "text/plain": [
       "(array([0.80640412, 0.71768707]),\n",
       " array([0.98141097, 0.16706255]),\n",
       " array([0.88534195, 0.27103404]),\n",
       " array([4465, 1263]))"
      ]
     },
     "execution_count": 31,
     "metadata": {},
     "output_type": "execute_result"
    }
   ],
   "source": [
    "precision_recall_fscore_support(Y_test,preds_df[\"loan_status\"])"
   ]
  },
  {
   "cell_type": "markdown",
   "id": "4da7e0dd",
   "metadata": {},
   "source": [
    "TODO:\n",
    "+ Add an auto-tuning feature for the threshold. It will improve our model performance."
   ]
  },
  {
   "cell_type": "markdown",
   "id": "f33be075",
   "metadata": {},
   "source": [
    "## LogReg + Optuna"
   ]
  },
  {
   "cell_type": "code",
   "execution_count": 35,
   "id": "c2dd52b9",
   "metadata": {},
   "outputs": [],
   "source": [
    "import optuna\n",
    "from sklearn.metrics import f1_score\n",
    "from sklearn.model_selection import train_test_split"
   ]
  },
  {
   "cell_type": "code",
   "execution_count": 60,
   "id": "8afcfdec",
   "metadata": {},
   "outputs": [],
   "source": [
    "# FYI: Objective functions can take additional arguments\n",
    "# (https://optuna.readthedocs.io/en/stable/faq.html#objective-func-additional-args).\n",
    "def objective(trial):\n",
    "    # iris = sklearn.datasets.load_iris()\n",
    "    # x, y = iris.data, iris.target\n",
    "    X_train_train, X_train_val, Y_train_train, Y_train_val = train_test_split(X_train,Y_train,\n",
    "        test_size=0.2,random_state=123)\n",
    "\n",
    "    l1_ratiofloat = trial.suggest_uniform(\"l1_ratio\", 0.0, 1.0)\n",
    "    C = trial.suggest_uniform(\"C\",0.0,1.0)\n",
    "    reg_base = LogisticRegression(penalty = \"elasticnet\",\n",
    "        l1_ratio= l1_ratiofloat, C = C,solver = 'saga', max_iter = 1000)\n",
    "    reg_base.fit(X_train_train, np.ravel(Y_train_train))\n",
    "    Y_pred=reg_base.predict(X_train_val)\n",
    "    preds= reg_base.predict_proba(X_train_val)\n",
    "    preds_df = pd.DataFrame(preds[:,1], columns = ['prob_default'])\n",
    "    loan_status_threshold = trial.suggest_uniform(\"loan_status_threshold\", 0.0, 1.0)\n",
    "    #loan_status_threshold = 0.5\n",
    "    preds_df[\"loan_status\"] = preds_df[\"prob_default\"].apply(lambda x: 1 if x > loan_status_threshold else 0)\n",
    "    metric_val = f1_score(Y_train_val,preds_df[\"loan_status\"])\n",
    "    print(metric_val)\n",
    "    return metric_val"
   ]
  },
  {
   "cell_type": "code",
   "execution_count": 61,
   "id": "77e16aed",
   "metadata": {},
   "outputs": [
    {
     "name": "stderr",
     "output_type": "stream",
     "text": [
      "\u001b[32m[I 2022-07-24 13:25:45,150]\u001b[0m A new study created in memory with name: no-name-acba495e-7f2b-4b3f-bd64-1dcebdb7f7a8\u001b[0m\n",
      "\u001b[32m[I 2022-07-24 13:25:47,572]\u001b[0m Trial 0 finished with value: 0.29304635761589404 and parameters: {'l1_ratio': 0.74390372368687, 'C': 0.680620105696991}. Best is trial 0 with value: 0.29304635761589404.\u001b[0m\n"
     ]
    },
    {
     "name": "stdout",
     "output_type": "stream",
     "text": [
      "0.29304635761589404\n"
     ]
    },
    {
     "name": "stderr",
     "output_type": "stream",
     "text": [
      "\u001b[32m[I 2022-07-24 13:25:50,350]\u001b[0m Trial 1 finished with value: 0.29304635761589404 and parameters: {'l1_ratio': 0.3305700403871241, 'C': 0.01823452952972837}. Best is trial 0 with value: 0.29304635761589404.\u001b[0m\n"
     ]
    },
    {
     "name": "stdout",
     "output_type": "stream",
     "text": [
      "0.29304635761589404\n"
     ]
    },
    {
     "name": "stderr",
     "output_type": "stream",
     "text": [
      "\u001b[32m[I 2022-07-24 13:25:53,084]\u001b[0m Trial 2 finished with value: 0.29304635761589404 and parameters: {'l1_ratio': 0.25263848968346125, 'C': 0.7928020983318349}. Best is trial 0 with value: 0.29304635761589404.\u001b[0m\n"
     ]
    },
    {
     "name": "stdout",
     "output_type": "stream",
     "text": [
      "0.29304635761589404\n"
     ]
    },
    {
     "name": "stderr",
     "output_type": "stream",
     "text": [
      "\u001b[32m[I 2022-07-24 13:25:55,884]\u001b[0m Trial 3 finished with value: 0.29304635761589404 and parameters: {'l1_ratio': 0.06677988613290697, 'C': 0.5653169379197331}. Best is trial 0 with value: 0.29304635761589404.\u001b[0m\n"
     ]
    },
    {
     "name": "stdout",
     "output_type": "stream",
     "text": [
      "0.29304635761589404\n"
     ]
    },
    {
     "name": "stderr",
     "output_type": "stream",
     "text": [
      "\u001b[32m[I 2022-07-24 13:25:58,648]\u001b[0m Trial 4 finished with value: 0.29304635761589404 and parameters: {'l1_ratio': 0.7847818220268873, 'C': 0.06868306260893853}. Best is trial 0 with value: 0.29304635761589404.\u001b[0m\n"
     ]
    },
    {
     "name": "stdout",
     "output_type": "stream",
     "text": [
      "0.29304635761589404\n"
     ]
    },
    {
     "name": "stderr",
     "output_type": "stream",
     "text": [
      "\u001b[32m[I 2022-07-24 13:26:01,428]\u001b[0m Trial 5 finished with value: 0.29304635761589404 and parameters: {'l1_ratio': 0.6265874256775882, 'C': 0.8064008741571843}. Best is trial 0 with value: 0.29304635761589404.\u001b[0m\n"
     ]
    },
    {
     "name": "stdout",
     "output_type": "stream",
     "text": [
      "0.29304635761589404\n"
     ]
    },
    {
     "name": "stderr",
     "output_type": "stream",
     "text": [
      "\u001b[32m[I 2022-07-24 13:26:04,093]\u001b[0m Trial 6 finished with value: 0.29304635761589404 and parameters: {'l1_ratio': 0.04743817919174631, 'C': 0.7856137281119991}. Best is trial 0 with value: 0.29304635761589404.\u001b[0m\n"
     ]
    },
    {
     "name": "stdout",
     "output_type": "stream",
     "text": [
      "0.29304635761589404\n"
     ]
    },
    {
     "name": "stderr",
     "output_type": "stream",
     "text": [
      "\u001b[32m[I 2022-07-24 13:26:06,745]\u001b[0m Trial 7 finished with value: 0.29304635761589404 and parameters: {'l1_ratio': 0.20641427573125148, 'C': 0.06661486670111372}. Best is trial 0 with value: 0.29304635761589404.\u001b[0m\n"
     ]
    },
    {
     "name": "stdout",
     "output_type": "stream",
     "text": [
      "0.29304635761589404\n"
     ]
    },
    {
     "name": "stderr",
     "output_type": "stream",
     "text": [
      "\u001b[32m[I 2022-07-24 13:26:09,423]\u001b[0m Trial 8 finished with value: 0.29304635761589404 and parameters: {'l1_ratio': 0.4375570849198963, 'C': 0.5447915440248108}. Best is trial 0 with value: 0.29304635761589404.\u001b[0m\n"
     ]
    },
    {
     "name": "stdout",
     "output_type": "stream",
     "text": [
      "0.29304635761589404\n"
     ]
    },
    {
     "name": "stderr",
     "output_type": "stream",
     "text": [
      "\u001b[32m[I 2022-07-24 13:26:12,150]\u001b[0m Trial 9 finished with value: 0.29304635761589404 and parameters: {'l1_ratio': 0.8865765417045388, 'C': 0.7894564814667319}. Best is trial 0 with value: 0.29304635761589404.\u001b[0m\n"
     ]
    },
    {
     "name": "stdout",
     "output_type": "stream",
     "text": [
      "0.29304635761589404\n",
      "FrozenTrial(number=0, values=[0.29304635761589404], datetime_start=datetime.datetime(2022, 7, 24, 13, 25, 45, 154044), datetime_complete=datetime.datetime(2022, 7, 24, 13, 25, 47, 571761), params={'l1_ratio': 0.74390372368687, 'C': 0.680620105696991}, distributions={'l1_ratio': UniformDistribution(high=1.0, low=0.0), 'C': UniformDistribution(high=1.0, low=0.0)}, user_attrs={}, system_attrs={}, intermediate_values={}, trial_id=0, state=TrialState.COMPLETE, value=None)\n"
     ]
    }
   ],
   "source": [
    "study = optuna.create_study(direction=\"maximize\")\n",
    "study.optimize(objective, n_trials=10)\n",
    "print(study.best_trial)"
   ]
  },
  {
   "cell_type": "code",
   "execution_count": 63,
   "id": "2a1ada3c",
   "metadata": {},
   "outputs": [
    {
     "data": {
      "text/plain": [
       "{'l1_ratio': 0.74390372368687, 'C': 0.680620105696991}"
      ]
     },
     "execution_count": 63,
     "metadata": {},
     "output_type": "execute_result"
    }
   ],
   "source": [
    "study.best_params"
   ]
  },
  {
   "cell_type": "code",
   "execution_count": 64,
   "id": "f2ba3296",
   "metadata": {},
   "outputs": [
    {
     "data": {
      "text/plain": [
       "0.29304635761589404"
      ]
     },
     "execution_count": 64,
     "metadata": {},
     "output_type": "execute_result"
    }
   ],
   "source": [
    "study.best_value"
   ]
  },
  {
   "cell_type": "code",
   "execution_count": null,
   "id": "ed079967",
   "metadata": {},
   "outputs": [],
   "source": []
  }
 ],
 "metadata": {
  "kernelspec": {
   "display_name": "Python 3.10.4 ('.env_cred': venv)",
   "language": "python",
   "name": "python3"
  },
  "language_info": {
   "codemirror_mode": {
    "name": "ipython",
    "version": 3
   },
   "file_extension": ".py",
   "mimetype": "text/x-python",
   "name": "python",
   "nbconvert_exporter": "python",
   "pygments_lexer": "ipython3",
   "version": "3.10.4"
  },
  "vscode": {
   "interpreter": {
    "hash": "849f897dc6400abc414b841390d8585701e6e51694d51de5a50df13aa0be9289"
   }
  }
 },
 "nbformat": 4,
 "nbformat_minor": 5
}
